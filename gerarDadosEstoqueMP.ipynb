{
 "cells": [
  {
   "cell_type": "code",
   "execution_count": 1,
   "metadata": {},
   "outputs": [
    {
     "name": "stdout",
     "output_type": "stream",
     "text": [
      "Arquivo 'dadosEstoqueMP.csv' gerado com sucesso.\n"
     ]
    }
   ],
   "source": [
    "#ESTOQUE MP\n",
    "import csv\n",
    "import random\n",
    "from faker import Faker\n",
    "from datetime import datetime, timedelta\n",
    "\n",
    "# Inicializando a instância do Faker\n",
    "fake = Faker()\n",
    "\n",
    "Componentes = [\"Componente1\", \"Componente2\", \"Componente3\", \"Componente4\", \"Componente5\", \"Componente6\", \"Componente7\", \"Componente8\", \"Componente9\", \"Componente10\",\n",
    "               \"Componente11\", \"Componente12\", \"Componente13\", \"Componente14\", \"Componente15\", \"Componente16\", \"Componente17\", \"Componente18\", \"Componente19\", \"Componente20\",\n",
    "               \"Componente21\", \"Componente22\", \"Componente23\", \"Componente24\", \"Componente25\", \"Componente26\", \"Componente27\", \"Componente28\", \"Componente29\", \"Componente30\",\n",
    "               \"Componente31\", \"Componente32\", \"Componente33\", \"Componente34\", \"Componente35\", \"Componente36\", \"Componente37\", \"Componente38\", \"Componente39\", \"Componente40\",\n",
    "               \"Componente41\", \"Componente42\", \"Componente43\", \"Componente44\", \"Componente45\", \"Componente46\", \"Componente47\", \"Componente48\", \"Componente49\", \"Componente50\"]\n",
    "\n",
    "# Definindo cabeçalhos\n",
    "cabecalho = [\"id\", \"componente\",\"data_entrada\", \"data_saida\", \"qtde_inicial\", \"qtde_entrada\", \"qtde_saida\"]\n",
    "\n",
    "# Gerando dados fictícios\n",
    "data = []\n",
    "for i in range(500):\n",
    "    componente = random.choice(Componentes)\n",
    "    data.append([\n",
    "        i+1,\n",
    "        componente,\n",
    "        fake.date_between(start_date='-10y', end_date='today').strftime(\"%d/%m/%Y\"),\n",
    "        (fake.date_between(start_date='-10y', end_date='today') + timedelta(days=random.randint(1, 30))).strftime(\"%d/%m/%Y\"),\n",
    "        fake.random_int(min=1, max=50),\n",
    "        fake.random_int(min=25, max=50),\n",
    "        fake.random_int(min=1, max=24)\n",
    "    ])\n",
    "\n",
    "# Certificando-se de que DataEntradaEstoque é anterior a DataSaidaEstoque\n",
    "for entry in data:\n",
    "    entrada = datetime.strptime(entry[2], \"%d/%m/%Y\")\n",
    "    saida = datetime.strptime(entry[3], \"%d/%m/%Y\")\n",
    "    if entrada > saida:\n",
    "        entry[2], entry[3] = entry[3], entry[2]\n",
    "\n",
    "# Escrevendo no arquivo CSV\n",
    "with open(\"dadosEstoqueMP.csv\", mode=\"w\", newline=\"\", encoding=\"utf-8\") as file:\n",
    "    writer = csv.writer(file)\n",
    "    writer.writerow(cabecalho)\n",
    "    writer.writerows(data)\n",
    "\n",
    "print(\"Arquivo 'dadosEstoqueMP.csv' gerado com sucesso.\")"
   ]
  }
 ],
 "metadata": {
  "kernelspec": {
   "display_name": "base",
   "language": "python",
   "name": "python3"
  },
  "language_info": {
   "codemirror_mode": {
    "name": "ipython",
    "version": 3
   },
   "file_extension": ".py",
   "mimetype": "text/x-python",
   "name": "python",
   "nbconvert_exporter": "python",
   "pygments_lexer": "ipython3",
   "version": "3.11.5"
  }
 },
 "nbformat": 4,
 "nbformat_minor": 2
}
