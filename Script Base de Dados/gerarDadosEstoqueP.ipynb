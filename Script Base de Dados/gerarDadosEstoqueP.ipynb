{
 "cells": [
  {
   "cell_type": "code",
   "execution_count": 1,
   "metadata": {},
   "outputs": [
    {
     "name": "stdout",
     "output_type": "stream",
     "text": [
      "Arquivo 'dadosEstoqueP.csv' gerado com sucesso.\n"
     ]
    }
   ],
   "source": [
    "#ESTOQUE PRODUTOS\n",
    "import csv\n",
    "import random\n",
    "from faker import Faker\n",
    "from datetime import datetime, timedelta\n",
    "\n",
    "# Inicializando a instância do Faker\n",
    "fake = Faker()\n",
    "\n",
    "# Definindo uma lista de produtos\n",
    "produtos = [\"Produto1\", \"Produto2\", \"Produto3\", \"Produto4\", \"Produto5\", \"Produto6\", \"Produto7\", \"Produto8\", \"Produto9\", \"Produto10\",\"Produto11\", \"Produto12\", \"Produto13\", \"Produto14\", \"Produto15\", \"Produto16\", \"Produto17\", \"Produto18\", \"Produto19\", \"Produto20\"]\n",
    "\n",
    "# Definindo cabeçalhos\n",
    "cabecalho = [\"id\", \"produto\",\"data_entrada\", \"data_saida\", \"qtde_inicial\", \"qtde_entrada\", \"qtde_saida\"]\n",
    "\n",
    "# Gerando dados fictícios\n",
    "data = []\n",
    "for i in range(500):\n",
    "    produto = random.choice(produtos)\n",
    "    data.append([\n",
    "        i+1,\n",
    "        produto,\n",
    "        fake.date_between(start_date='-10y', end_date='today').strftime(\"%d/%m/%Y\"),\n",
    "        (fake.date_between(start_date='-10y', end_date='today') + timedelta(days=random.randint(1, 30))).strftime(\"%d/%m/%Y\"),\n",
    "        fake.random_int(min=1, max=30),\n",
    "        fake.random_int(min=25, max=55),\n",
    "        fake.random_int(min=1, max=24),\n",
    "    ])\n",
    "\n",
    "# Certificando-se de que DataEntradaEstoque é anterior a DataSaidaEstoque\n",
    "for entry in data:\n",
    "    entrada = datetime.strptime(entry[2], \"%d/%m/%Y\")\n",
    "    saida = datetime.strptime(entry[3], \"%d/%m/%Y\")\n",
    "    if entrada > saida:\n",
    "        entry[2], entry[3] = entry[3], entry[2]\n",
    "\n",
    "# Escrevendo no arquivo CSV\n",
    "with open(\"dadosEstoqueProduto.csv\", mode=\"w\", newline=\"\", encoding=\"utf-8\") as file:\n",
    "    writer = csv.writer(file)\n",
    "    writer.writerow(cabecalho)\n",
    "    writer.writerows(data)\n",
    "\n",
    "print(\"Arquivo 'dadosEstoqueP.csv' gerado com sucesso.\")"
   ]
  }
 ],
 "metadata": {
  "kernelspec": {
   "display_name": "base",
   "language": "python",
   "name": "python3"
  },
  "language_info": {
   "codemirror_mode": {
    "name": "ipython",
    "version": 3
   },
   "file_extension": ".py",
   "mimetype": "text/x-python",
   "name": "python",
   "nbconvert_exporter": "python",
   "pygments_lexer": "ipython3",
   "version": "3.11.5"
  }
 },
 "nbformat": 4,
 "nbformat_minor": 2
}
