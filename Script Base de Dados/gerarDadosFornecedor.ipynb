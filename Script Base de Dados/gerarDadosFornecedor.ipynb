{
 "cells": [
  {
   "cell_type": "code",
   "execution_count": 3,
   "metadata": {},
   "outputs": [
    {
     "name": "stdout",
     "output_type": "stream",
     "text": [
      "Arquivo 'dadosFornecedor.csv' gerado com sucesso.\n"
     ]
    }
   ],
   "source": [
    "import csv\n",
    "\n",
    "cabecalho = [\"id\", \"fornecedor\"]\n",
    "\n",
    "# Gerando dados fictícios\n",
    "data = []\n",
    "for i in range(5):\n",
    "    fornecedor = f\"Fornecedor{i+1}\"\n",
    "    data.append([\n",
    "        i+1,\n",
    "        fornecedor\n",
    "    ])\n",
    "\n",
    "# Escrevendo no arquivo CSV\n",
    "with open(\"dadosFornecedor.csv\", mode=\"w\", newline=\"\", encoding=\"utf-8\") as file:\n",
    "    writer = csv.writer(file)\n",
    "    writer.writerow(cabecalho)\n",
    "    writer.writerows(data)\n",
    "\n",
    "print(\"Arquivo 'dadosFornecedor.csv' gerado com sucesso.\")"
   ]
  }
 ],
 "metadata": {
  "kernelspec": {
   "display_name": "base",
   "language": "python",
   "name": "python3"
  },
  "language_info": {
   "codemirror_mode": {
    "name": "ipython",
    "version": 3
   },
   "file_extension": ".py",
   "mimetype": "text/x-python",
   "name": "python",
   "nbconvert_exporter": "python",
   "pygments_lexer": "ipython3",
   "version": "3.11.5"
  }
 },
 "nbformat": 4,
 "nbformat_minor": 2
}
