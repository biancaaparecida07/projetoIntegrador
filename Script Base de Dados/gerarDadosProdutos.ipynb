{
 "cells": [
  {
   "cell_type": "code",
   "execution_count": 1,
   "metadata": {},
   "outputs": [
    {
     "name": "stdout",
     "output_type": "stream",
     "text": [
      "Arquivo 'dadosProduto.csv' gerado com sucesso.\n"
     ]
    }
   ],
   "source": [
    "import csv\n",
    "import random\n",
    "from faker import Faker\n",
    "\n",
    "# Inicializando a instância do Faker\n",
    "fake = Faker()\n",
    "\n",
    "# Definindo uma lista de produtos\n",
    "produtos = [\"Produto1\", \"Produto2\", \"Produto3\", \"Produto4\", \"Produto5\", \"Produto6\", \"Produto7\", \"Produto8\", \"Produto9\", \"Produto10\",\"Produto11\", \"Produto12\", \"Produto13\", \"Produto14\", \"Produto15\", \"Produto16\", \"Produto17\", \"Produto18\", \"Produto19\", \"Produto20\"]\n",
    "\n",
    "# Definindo cabeçalhos\n",
    "cabecalho = [\"id\", \"nome_produto\", \"categoria_produto\", \"valor_unitario\"]\n",
    "\n",
    "# Gerando dados fictícios\n",
    "data = []\n",
    "for i in range(20):\n",
    "    produto = produtos[i]\n",
    "    data.append([\n",
    "        i+1,\n",
    "        produto,\n",
    "        fake.random_int(min=1, max=5),\n",
    "        fake.random_int(min=10000, max=50000),\n",
    "    ])\n",
    "\n",
    "# Escrevendo no arquivo CSV\n",
    "with open(\"dadosProduto.csv\", mode=\"w\", newline=\"\", encoding=\"utf-8\") as file:\n",
    "    writer = csv.writer(file)\n",
    "    writer.writerow(cabecalho)\n",
    "    writer.writerows(data)\n",
    "\n",
    "print(\"Arquivo 'dadosProduto.csv' gerado com sucesso.\")"
   ]
  }
 ],
 "metadata": {
  "kernelspec": {
   "display_name": "base",
   "language": "python",
   "name": "python3"
  },
  "language_info": {
   "codemirror_mode": {
    "name": "ipython",
    "version": 3
   },
   "file_extension": ".py",
   "mimetype": "text/x-python",
   "name": "python",
   "nbconvert_exporter": "python",
   "pygments_lexer": "ipython3",
   "version": "3.11.5"
  }
 },
 "nbformat": 4,
 "nbformat_minor": 2
}
